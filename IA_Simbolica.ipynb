{
  "nbformat": 4,
  "nbformat_minor": 0,
  "metadata": {
    "colab": {
      "provenance": [],
      "authorship_tag": "ABX9TyMndl9XtziP2SxtDuLZq1T6",
      "include_colab_link": true
    },
    "kernelspec": {
      "name": "python3",
      "display_name": "Python 3"
    },
    "language_info": {
      "name": "python"
    }
  },
  "cells": [
    {
      "cell_type": "markdown",
      "metadata": {
        "id": "view-in-github",
        "colab_type": "text"
      },
      "source": [
        "<a href=\"https://colab.research.google.com/github/fresilva-ai/public.ai/blob/main/IA_Simbolica.ipynb\" target=\"_parent\"><img src=\"https://colab.research.google.com/assets/colab-badge.svg\" alt=\"Open In Colab\"/></a>"
      ]
    },
    {
      "cell_type": "code",
      "execution_count": 1,
      "metadata": {
        "colab": {
          "base_uri": "https://localhost:8080/"
        },
        "id": "nmz5AYMUEdXW",
        "outputId": "69dcc304-ecee-4caa-d0ca-928275b53b5b"
      },
      "outputs": [
        {
          "output_type": "stream",
          "name": "stdout",
          "text": [
            "Diagnóstico: Dengue\n"
          ]
        }
      ],
      "source": [
        "# IA Simbólica basada en reglas\n",
        "\n",
        "def diagnosticar(sintomas):\n",
        "    reglas = [\n",
        "        {\"condiciones\": {\"fiebre\", \"tos\", \"dolor_garganta\"}, \"diagnostico\": \"Gripe\"},\n",
        "        {\"condiciones\": {\"fiebre\", \"dolor_cabeza\", \"nauseas\"}, \"diagnostico\": \"Dengue\"},\n",
        "        {\"condiciones\": {\"tos\", \"dificultad_respirar\"}, \"diagnostico\": \"Asma\"},\n",
        "        {\"condiciones\": {\"dolor_estomago\", \"nauseas\", \"diarrea\"}, \"diagnostico\": \"Infección estomacal\"},\n",
        "    ]\n",
        "\n",
        "    for regla in reglas:\n",
        "        if regla[\"condiciones\"].issubset(sintomas):\n",
        "            return f\"Diagnóstico: {regla['diagnostico']}\"\n",
        "\n",
        "    return \"No se pudo determinar un diagnóstico claro.\"\n",
        "\n",
        "# 🧪 Prueba\n",
        "entrada_usuario = {\"fiebre\", \"dolor_cabeza\", \"nauseas\"}\n",
        "resultado = diagnosticar(entrada_usuario)\n",
        "print(resultado)\n"
      ]
    }
  ]
}