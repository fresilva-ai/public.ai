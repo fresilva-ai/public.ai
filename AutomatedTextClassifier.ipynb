{
  "nbformat": 4,
  "nbformat_minor": 0,
  "metadata": {
    "colab": {
      "provenance": [],
      "authorship_tag": "ABX9TyOYCyxDs2ZJI74prw2Pt42m",
      "include_colab_link": true
    },
    "kernelspec": {
      "name": "python3",
      "display_name": "Python 3"
    },
    "language_info": {
      "name": "python"
    }
  },
  "cells": [
    {
      "cell_type": "markdown",
      "metadata": {
        "id": "view-in-github",
        "colab_type": "text"
      },
      "source": [
        "<a href=\"https://colab.research.google.com/github/fresilva-ai/public.ai/blob/main/AutomatedTextClassifier.ipynb\" target=\"_parent\"><img src=\"https://colab.research.google.com/assets/colab-badge.svg\" alt=\"Open In Colab\"/></a>"
      ]
    },
    {
      "cell_type": "code",
      "source": [
        "# Paso 1: Instalar las dependencias necesarias\n",
        "!pip install scikit-learn pandas nltk"
      ],
      "metadata": {
        "colab": {
          "base_uri": "https://localhost:8080/"
        },
        "id": "T_dEGZzjSegL",
        "outputId": "397a7d3b-b3bf-4413-da50-1ed121c61c27"
      },
      "execution_count": 2,
      "outputs": [
        {
          "output_type": "stream",
          "name": "stdout",
          "text": [
            "Requirement already satisfied: scikit-learn in /usr/local/lib/python3.11/dist-packages (1.6.0)\n",
            "Requirement already satisfied: pandas in /usr/local/lib/python3.11/dist-packages (2.2.2)\n",
            "Requirement already satisfied: nltk in /usr/local/lib/python3.11/dist-packages (3.9.1)\n",
            "Requirement already satisfied: numpy>=1.19.5 in /usr/local/lib/python3.11/dist-packages (from scikit-learn) (1.26.4)\n",
            "Requirement already satisfied: scipy>=1.6.0 in /usr/local/lib/python3.11/dist-packages (from scikit-learn) (1.13.1)\n",
            "Requirement already satisfied: joblib>=1.2.0 in /usr/local/lib/python3.11/dist-packages (from scikit-learn) (1.4.2)\n",
            "Requirement already satisfied: threadpoolctl>=3.1.0 in /usr/local/lib/python3.11/dist-packages (from scikit-learn) (3.5.0)\n",
            "Requirement already satisfied: python-dateutil>=2.8.2 in /usr/local/lib/python3.11/dist-packages (from pandas) (2.8.2)\n",
            "Requirement already satisfied: pytz>=2020.1 in /usr/local/lib/python3.11/dist-packages (from pandas) (2024.2)\n",
            "Requirement already satisfied: tzdata>=2022.7 in /usr/local/lib/python3.11/dist-packages (from pandas) (2024.2)\n",
            "Requirement already satisfied: click in /usr/local/lib/python3.11/dist-packages (from nltk) (8.1.8)\n",
            "Requirement already satisfied: regex>=2021.8.3 in /usr/local/lib/python3.11/dist-packages (from nltk) (2024.11.6)\n",
            "Requirement already satisfied: tqdm in /usr/local/lib/python3.11/dist-packages (from nltk) (4.67.1)\n",
            "Requirement already satisfied: six>=1.5 in /usr/local/lib/python3.11/dist-packages (from python-dateutil>=2.8.2->pandas) (1.17.0)\n"
          ]
        }
      ]
    },
    {
      "cell_type": "code",
      "source": [
        "# Paso 2: Importar las librerías\n",
        "from sklearn.feature_extraction.text import TfidfVectorizer\n",
        "from sklearn.cluster import KMeans\n",
        "import pandas as pd\n",
        "import nltk\n",
        "from nltk.corpus import stopwords"
      ],
      "metadata": {
        "id": "2PjekPZJSgf4"
      },
      "execution_count": 3,
      "outputs": []
    },
    {
      "cell_type": "code",
      "execution_count": 4,
      "metadata": {
        "colab": {
          "base_uri": "https://localhost:8080/",
          "height": 196
        },
        "id": "_B4acXBySMLF",
        "outputId": "8149df1b-cc56-459a-e87c-96073e5fccd3"
      },
      "outputs": [
        {
          "output_type": "stream",
          "name": "stderr",
          "text": [
            "[nltk_data] Downloading package stopwords to /root/nltk_data...\n",
            "[nltk_data]   Unzipping corpora/stopwords.zip.\n"
          ]
        },
        {
          "output_type": "stream",
          "name": "stdout",
          "text": [
            "Clasificación de correos por cluster:\n",
            "                                              Correo  Cluster\n",
            "0              Quiero información sobre su producto.        2\n",
            "1                        ¿Cuánto cuesta su servicio?        0\n",
            "2         Gracias por la atención, estoy satisfecho.        0\n",
            "3  Tengo problemas con la configuración del softw...        0\n",
            "4                          ¿Ofrecen soporte técnico?        0\n",
            "5  El producto llegó defectuoso, necesito una sol...        1\n"
          ]
        },
        {
          "output_type": "display_data",
          "data": {
            "text/plain": [
              "<IPython.core.display.Javascript object>"
            ],
            "application/javascript": [
              "\n",
              "    async function download(id, filename, size) {\n",
              "      if (!google.colab.kernel.accessAllowed) {\n",
              "        return;\n",
              "      }\n",
              "      const div = document.createElement('div');\n",
              "      const label = document.createElement('label');\n",
              "      label.textContent = `Downloading \"${filename}\": `;\n",
              "      div.appendChild(label);\n",
              "      const progress = document.createElement('progress');\n",
              "      progress.max = size;\n",
              "      div.appendChild(progress);\n",
              "      document.body.appendChild(div);\n",
              "\n",
              "      const buffers = [];\n",
              "      let downloaded = 0;\n",
              "\n",
              "      const channel = await google.colab.kernel.comms.open(id);\n",
              "      // Send a message to notify the kernel that we're ready.\n",
              "      channel.send({})\n",
              "\n",
              "      for await (const message of channel.messages) {\n",
              "        // Send a message to notify the kernel that we're ready.\n",
              "        channel.send({})\n",
              "        if (message.buffers) {\n",
              "          for (const buffer of message.buffers) {\n",
              "            buffers.push(buffer);\n",
              "            downloaded += buffer.byteLength;\n",
              "            progress.value = downloaded;\n",
              "          }\n",
              "        }\n",
              "      }\n",
              "      const blob = new Blob(buffers, {type: 'application/binary'});\n",
              "      const a = document.createElement('a');\n",
              "      a.href = window.URL.createObjectURL(blob);\n",
              "      a.download = filename;\n",
              "      div.appendChild(a);\n",
              "      a.click();\n",
              "      div.remove();\n",
              "    }\n",
              "  "
            ]
          },
          "metadata": {}
        },
        {
          "output_type": "display_data",
          "data": {
            "text/plain": [
              "<IPython.core.display.Javascript object>"
            ],
            "application/javascript": [
              "download(\"download_7d4124b8-f85a-4748-a051-d35d104ed087\", \"clasificacion_correos.csv\", 279)"
            ]
          },
          "metadata": {}
        }
      ],
      "source": [
        "# Descargar las palabras vacías en español\n",
        "nltk.download('stopwords')\n",
        "stop_words_spanish = stopwords.words('spanish')\n",
        "\n",
        "# Paso 3: Datos de ejemplo: correos electrónicos\n",
        "correos = [\n",
        "    \"Quiero información sobre su producto.\",\n",
        "    \"¿Cuánto cuesta su servicio?\",\n",
        "    \"Gracias por la atención, estoy satisfecho.\",\n",
        "    \"Tengo problemas con la configuración del software.\",\n",
        "    \"¿Ofrecen soporte técnico?\",\n",
        "    \"El producto llegó defectuoso, necesito una solución.\",\n",
        "]\n",
        "\n",
        "# Paso 4: Preprocesar texto con TF-IDF y palabras vacías en español\n",
        "vectorizer = TfidfVectorizer(stop_words=stop_words_spanish)\n",
        "X = vectorizer.fit_transform(correos)\n",
        "\n",
        "# Paso 5: Agrupamiento automático (Clustering) usando K-Means\n",
        "kmeans = KMeans(n_clusters=3, random_state=42)\n",
        "kmeans.fit(X)\n",
        "\n",
        "# Paso 6: Mostrar resultados\n",
        "clusters = kmeans.labels_\n",
        "resultados = pd.DataFrame({'Correo': correos, 'Cluster': clusters})\n",
        "\n",
        "# Imprimir los resultados\n",
        "print(\"Clasificación de correos por cluster:\")\n",
        "print(resultados)\n",
        "\n",
        "# Paso 7: Opcional: Guardar resultados en un archivo CSV\n",
        "resultados.to_csv(\"clasificacion_correos.csv\", index=False)\n",
        "\n",
        "# Mostrar el archivo generado\n",
        "from google.colab import files\n",
        "files.download(\"clasificacion_correos.csv\")"
      ]
    }
  ]
}